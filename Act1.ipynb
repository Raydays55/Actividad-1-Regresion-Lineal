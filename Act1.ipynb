{
 "cells": [
  {
   "cell_type": "code",
   "execution_count": 22,
   "id": "0667c105",
   "metadata": {},
   "outputs": [],
   "source": [
    "#Importar librerías\n",
    "import pandas as pd\n",
    "import numpy as np\n",
    "import matplotlib.pyplot as plt\n",
    "import seaborn as sns"
   ]
  },
  {
   "cell_type": "code",
   "execution_count": 23,
   "id": "ac17ac5b",
   "metadata": {},
   "outputs": [],
   "source": [
    "#Ajustar con options\n",
    "pd.options.display.max_columns = 76\n",
    "pd.options.display.max_rows = 76"
   ]
  },
  {
   "cell_type": "code",
   "execution_count": 24,
   "id": "509d36fd",
   "metadata": {},
   "outputs": [
    {
     "name": "stdout",
     "output_type": "stream",
     "text": [
      "<class 'pandas.core.frame.DataFrame'>\n",
      "RangeIndex: 14187 entries, 0 to 14186\n",
      "Data columns (total 77 columns):\n",
      " #   Column                                        Non-Null Count  Dtype  \n",
      "---  ------                                        --------------  -----  \n",
      " 0   Unnamed: 0                                    14187 non-null  int64  \n",
      " 1   listing_url                                   14187 non-null  object \n",
      " 2   last_scraped                                  14187 non-null  object \n",
      " 3   source                                        14187 non-null  object \n",
      " 4   name                                          14187 non-null  object \n",
      " 5   description                                   14187 non-null  object \n",
      " 6   neighborhood_overview                         14187 non-null  object \n",
      " 7   picture_url                                   14187 non-null  object \n",
      " 8   host_id                                       14187 non-null  int64  \n",
      " 9   host_url                                      14187 non-null  object \n",
      " 10  host_name                                     14187 non-null  object \n",
      " 11  host_since                                    14187 non-null  object \n",
      " 12  host_location                                 14187 non-null  object \n",
      " 13  host_about                                    14187 non-null  object \n",
      " 14  host_response_time                            14187 non-null  object \n",
      " 15  host_is_superhost                             14187 non-null  object \n",
      " 16  host_thumbnail_url                            14187 non-null  object \n",
      " 17  host_picture_url                              14187 non-null  object \n",
      " 18  host_neighbourhood                            14187 non-null  object \n",
      " 19  host_verifications                            14187 non-null  object \n",
      " 20  host_has_profile_pic                          14187 non-null  object \n",
      " 21  host_identity_verified                        14187 non-null  object \n",
      " 22  neighbourhood                                 14187 non-null  object \n",
      " 23  neighbourhood_cleansed                        14187 non-null  object \n",
      " 24  neighbourhood_group_cleansed                  14187 non-null  object \n",
      " 25  latitude                                      14187 non-null  float64\n",
      " 26  longitude                                     14187 non-null  float64\n",
      " 27  property_type                                 14187 non-null  object \n",
      " 28  room_type                                     14187 non-null  object \n",
      " 29  bathrooms_text                                14187 non-null  object \n",
      " 30  amenities                                     14187 non-null  object \n",
      " 31  has_availability                              14187 non-null  object \n",
      " 32  calendar_last_scraped                         14187 non-null  object \n",
      " 33  first_review                                  14187 non-null  object \n",
      " 34  last_review                                   14187 non-null  object \n",
      " 35  license                                       14187 non-null  object \n",
      " 36  instant_bookable                              14187 non-null  object \n",
      " 37  host_response_rate                            14187 non-null  float64\n",
      " 38  host_acceptance_rate                          14187 non-null  float64\n",
      " 39  host_listings_count                           14187 non-null  float64\n",
      " 40  host_total_listings_count                     14187 non-null  float64\n",
      " 41  accommodates                                  14187 non-null  float64\n",
      " 42  bathrooms                                     14187 non-null  float64\n",
      " 43  bedrooms                                      14187 non-null  float64\n",
      " 44  beds                                          14187 non-null  float64\n",
      " 45  price                                         14187 non-null  float64\n",
      " 46  minimum_nights                                14187 non-null  float64\n",
      " 47  maximum_nights                                14187 non-null  float64\n",
      " 48  minimum_minimum_nights                        14187 non-null  float64\n",
      " 49  maximum_minimum_nights                        14187 non-null  float64\n",
      " 50  minimum_maximum_nights                        14187 non-null  float64\n",
      " 51  maximum_maximum_nights                        14187 non-null  float64\n",
      " 52  minimum_nights_avg_ntm                        14187 non-null  float64\n",
      " 53  maximum_nights_avg_ntm                        14187 non-null  float64\n",
      " 54  availability_30                               14187 non-null  int64  \n",
      " 55  availability_60                               14187 non-null  int64  \n",
      " 56  availability_90                               14187 non-null  int64  \n",
      " 57  availability_365                              14187 non-null  int64  \n",
      " 58  number_of_reviews                             14187 non-null  float64\n",
      " 59  number_of_reviews_ltm                         14187 non-null  float64\n",
      " 60  number_of_reviews_l30d                        14187 non-null  float64\n",
      " 61  availability_eoy                              14187 non-null  int64  \n",
      " 62  number_of_reviews_ly                          14187 non-null  float64\n",
      " 63  estimated_occupancy_l365d                     14187 non-null  int64  \n",
      " 64  estimated_revenue_l365d                       14187 non-null  float64\n",
      " 65  review_scores_rating                          14187 non-null  float64\n",
      " 66  review_scores_accuracy                        14187 non-null  float64\n",
      " 67  review_scores_cleanliness                     14187 non-null  float64\n",
      " 68  review_scores_checkin                         14187 non-null  float64\n",
      " 69  review_scores_communication                   14187 non-null  float64\n",
      " 70  review_scores_location                        14187 non-null  float64\n",
      " 71  review_scores_value                           14187 non-null  float64\n",
      " 72  calculated_host_listings_count                14187 non-null  float64\n",
      " 73  calculated_host_listings_count_entire_homes   14187 non-null  float64\n",
      " 74  calculated_host_listings_count_private_rooms  14187 non-null  float64\n",
      " 75  calculated_host_listings_count_shared_rooms   14187 non-null  float64\n",
      " 76  reviews_per_month                             14187 non-null  float64\n",
      "dtypes: float64(36), int64(8), object(33)\n",
      "memory usage: 8.3+ MB\n"
     ]
    }
   ],
   "source": [
    "# DF\n",
    "DF_inicial = pd.read_csv('Berlin_76_Final.csv')\n",
    "DF_inicial.info()"
   ]
  },
  {
   "cell_type": "code",
   "execution_count": null,
   "id": "f14cf529",
   "metadata": {},
   "outputs": [],
   "source": [
    "#Eliminar Unnamed: 0\n",
    "Berlin = DF_inicial.drop(['Unnamed: 0'],axis= 1)\n",
    "Berlin"
   ]
  },
  {
   "cell_type": "code",
   "execution_count": null,
   "id": "a4ec71bf",
   "metadata": {},
   "outputs": [],
   "source": [
    "# Tipos de habitación\n",
    "print(Berlin['room_type'].value_counts())\n",
    "\n",
    "# Sub DF\n",
    "Entire_home = Berlin[Berlin['room_type'] == 'Entire home/apt']\n",
    "Private_room = Berlin[Berlin['room_type'] == 'Private room']\n",
    "Hotel_room = Berlin[Berlin['room_type'] == 'Hotel room']\n",
    "Shared_room = Berlin[Berlin['room_type'] == 'Shared room']"
   ]
  },
  {
   "cell_type": "code",
   "execution_count": null,
   "id": "0d0c7b90",
   "metadata": {},
   "outputs": [],
   "source": [
    "#Seleccionar cuantitativas de cada Sub DF\n",
    "Entire_home_cuant = Entire_home.select_dtypes(['int64','float64'])\n",
    "Private_room_cuant = Private_room.select_dtypes(['int64','float64'])\n",
    "Hotel_room_cuant = Hotel_room.select_dtypes(['int64','float64'])\n",
    "Shared_room_cuant = Shared_room.select_dtypes(['int64','float64'])\n",
    "\n",
    "# Corroborar\n",
    "Entire_home_cuant.info()"
   ]
  },
  {
   "cell_type": "code",
   "execution_count": null,
   "id": "1fc88a79",
   "metadata": {},
   "outputs": [],
   "source": [
    "#Correlación Entire home\n",
    "Corr_Entire_home = Entire_home_cuant.corr()\n",
    "Corr_Entire_home\n",
    "\n",
    "#Absoluto\n",
    "Corr_Entire_home1= abs(Corr_Entire_home)\n",
    "Corr_Entire_home1"
   ]
  },
  {
   "cell_type": "code",
   "execution_count": null,
   "id": "d2ae5417",
   "metadata": {},
   "outputs": [],
   "source": [
    "#Separar por variables cuantitativas\n",
    "Berlin_Cuant = Berlin.select_dtypes(['int64','float64'])"
   ]
  }
 ],
 "metadata": {
  "kernelspec": {
   "display_name": "Python 3",
   "language": "python",
   "name": "python3"
  },
  "language_info": {
   "codemirror_mode": {
    "name": "ipython",
    "version": 3
   },
   "file_extension": ".py",
   "mimetype": "text/x-python",
   "name": "python",
   "nbconvert_exporter": "python",
   "pygments_lexer": "ipython3",
   "version": "3.13.6"
  }
 },
 "nbformat": 4,
 "nbformat_minor": 5
}
